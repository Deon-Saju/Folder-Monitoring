{
 "cells": [
  {
   "cell_type": "code",
   "execution_count": null,
   "id": "3f346868",
   "metadata": {},
   "outputs": [
    {
     "name": "stdout",
     "output_type": "stream",
     "text": [
      "Monitoring the file...\n",
      "Created\n",
      "Moved\n",
      "Moved\n",
      "Deleted\n",
      "Modified\n",
      "Modified\n",
      "Modified\n",
      "Modified\n",
      "Modified\n",
      "Deleted\n",
      "Created\n",
      "Modified\n",
      "Modified\n",
      "Modified\n",
      "Modified\n",
      "Modified\n"
     ]
    }
   ],
   "source": [
    "import sys\n",
    "import time\n",
    "import logging\n",
    "from watchdog.observers import Observer\n",
    "from watchdog.events import FileSystemEventHandler\n",
    "\n",
    "def on_created(event):\n",
    "    print('Created')\n",
    "def on_deleted(event):\n",
    "    print('Deleted')\n",
    "def on_modified(event):\n",
    "    print('Modified')\n",
    "def on_moved(event):\n",
    "    print('Moved')\n",
    "    \n",
    "if __name__ == \"__main__\":\n",
    "    \n",
    "    event_handler = FileSystemEventHandler()\n",
    "    \n",
    "    #calling the functions\n",
    "    event_handler.on_created = on_created\n",
    "    event_handler.on_deleted = on_deleted\n",
    "    event_handler.on_modified = on_modified\n",
    "    event_handler.on_moved = on_moved\n",
    "    \n",
    "    path = \"D:/Documents\"\n",
    "    observer = Observer()\n",
    "    observer.schedule(event_handler, path, recursive=True)\n",
    "    observer.start()\n",
    "    try:\n",
    "        print('Monitoring the file...')\n",
    "        while True:\n",
    "            time.sleep(1)\n",
    "    finally:\n",
    "        observer.stop()\n",
    "        observer.join()"
   ]
  },
  {
   "cell_type": "code",
   "execution_count": null,
   "id": "5c2783fa",
   "metadata": {},
   "outputs": [],
   "source": []
  }
 ],
 "metadata": {
  "kernelspec": {
   "display_name": "Python 3 (ipykernel)",
   "language": "python",
   "name": "python3"
  },
  "language_info": {
   "codemirror_mode": {
    "name": "ipython",
    "version": 3
   },
   "file_extension": ".py",
   "mimetype": "text/x-python",
   "name": "python",
   "nbconvert_exporter": "python",
   "pygments_lexer": "ipython3",
   "version": "3.9.12"
  }
 },
 "nbformat": 4,
 "nbformat_minor": 5
}
